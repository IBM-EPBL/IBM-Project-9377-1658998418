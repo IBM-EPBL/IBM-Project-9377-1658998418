{
 "cells": [
  {
   "cell_type": "code",
   "execution_count": 100,
   "metadata": {
    "id": "lCqXEgPUoqF1"
   },
   "outputs": [
    {
     "data": {
      "text/html": [
       "<div>\n",
       "<style scoped>\n",
       "    .dataframe tbody tr th:only-of-type {\n",
       "        vertical-align: middle;\n",
       "    }\n",
       "\n",
       "    .dataframe tbody tr th {\n",
       "        vertical-align: top;\n",
       "    }\n",
       "\n",
       "    .dataframe thead th {\n",
       "        text-align: right;\n",
       "    }\n",
       "</style>\n",
       "<table border=\"1\" class=\"dataframe\">\n",
       "  <thead>\n",
       "    <tr style=\"text-align: right;\">\n",
       "      <th></th>\n",
       "      <th>Unnamed: 0</th>\n",
       "      <th>COMMUNITY</th>\n",
       "      <th>RANK</th>\n",
       "      <th>COM.RANK</th>\n",
       "      <th>AGGR MARK</th>\n",
       "      <th>COLLEGE CODE</th>\n",
       "      <th>BRANCH CODE</th>\n",
       "    </tr>\n",
       "  </thead>\n",
       "  <tbody>\n",
       "    <tr>\n",
       "      <th>0</th>\n",
       "      <td>1</td>\n",
       "      <td>BC</td>\n",
       "      <td>5</td>\n",
       "      <td>3.0</td>\n",
       "      <td>200.00</td>\n",
       "      <td>1</td>\n",
       "      <td>CS</td>\n",
       "    </tr>\n",
       "    <tr>\n",
       "      <th>1</th>\n",
       "      <td>2</td>\n",
       "      <td>SC</td>\n",
       "      <td>7</td>\n",
       "      <td>1.0</td>\n",
       "      <td>200.00</td>\n",
       "      <td>1</td>\n",
       "      <td>CS</td>\n",
       "    </tr>\n",
       "    <tr>\n",
       "      <th>2</th>\n",
       "      <td>3</td>\n",
       "      <td>BC</td>\n",
       "      <td>8</td>\n",
       "      <td>4.0</td>\n",
       "      <td>200.00</td>\n",
       "      <td>1</td>\n",
       "      <td>CS</td>\n",
       "    </tr>\n",
       "    <tr>\n",
       "      <th>3</th>\n",
       "      <td>4</td>\n",
       "      <td>BC</td>\n",
       "      <td>10</td>\n",
       "      <td>6.0</td>\n",
       "      <td>200.00</td>\n",
       "      <td>1</td>\n",
       "      <td>EC</td>\n",
       "    </tr>\n",
       "    <tr>\n",
       "      <th>4</th>\n",
       "      <td>6</td>\n",
       "      <td>OC</td>\n",
       "      <td>12</td>\n",
       "      <td>8.0</td>\n",
       "      <td>199.75</td>\n",
       "      <td>1</td>\n",
       "      <td>EE</td>\n",
       "    </tr>\n",
       "  </tbody>\n",
       "</table>\n",
       "</div>"
      ],
      "text/plain": [
       "   Unnamed: 0 COMMUNITY  RANK  COM.RANK  AGGR MARK  COLLEGE CODE BRANCH CODE\n",
       "0           1        BC     5       3.0     200.00             1          CS\n",
       "1           2        SC     7       1.0     200.00             1          CS\n",
       "2           3        BC     8       4.0     200.00             1          CS\n",
       "3           4        BC    10       6.0     200.00             1          EC\n",
       "4           6        OC    12       8.0     199.75             1          EE"
      ]
     },
     "execution_count": 100,
     "metadata": {},
     "output_type": "execute_result"
    }
   ],
   "source": [
    "\n",
    "import os, types\n",
    "import pandas as pd\n",
    "from botocore.client import Config\n",
    "import ibm_boto3\n",
    "\n",
    "def __iter__(self): return 0\n",
    "\n",
    "# @hidden_cell\n",
    "# The following code accesses a file in your IBM Cloud Object Storage. It includes your credentials.\n",
    "# You might want to remove those credentials before you share the notebook.\n",
    "cos_client = ibm_boto3.client(service_name='s3',\n",
    "    ibm_api_key_id='OhaCaq1Z53czuhOw6dbDxFRltziteAxiZrDM8d1F2Ab-',\n",
    "    ibm_auth_endpoint=\"https://iam.cloud.ibm.com/oidc/token\",\n",
    "    config=Config(signature_version='oauth'),\n",
    "    endpoint_url='https://s3.private.ap.cloud-object-storage.appdomain.cloud')\n",
    "\n",
    "bucket = 'universityadmiteligibilitypredict-donotdelete-pr-mzurtmochnbbb9'\n",
    "object_key = 'new_dataset.csv'\n",
    "\n",
    "body = cos_client.get_object(Bucket=bucket,Key=object_key)['Body']\n",
    "# add missing __iter__ method, so pandas accepts body as file-like object\n",
    "if not hasattr(body, \"__iter__\"): body.__iter__ = types.MethodType( __iter__, body )\n",
    "\n",
    "df = pd.read_csv(body)\n",
    "df.head()"
   ]
  },
  {
   "cell_type": "code",
   "execution_count": null,
   "metadata": {
    "id": "QANkZm5TouHk"
   },
   "outputs": [],
   "source": []
  },
  {
   "cell_type": "code",
   "execution_count": 101,
   "metadata": {
    "colab": {
     "base_uri": "https://localhost:8080/",
     "height": 424
    },
    "id": "gmAbjlnrou0l",
    "outputId": "33ed2d99-cdfe-46f2-b137-cf42f400550a"
   },
   "outputs": [
    {
     "data": {
      "text/html": [
       "<div>\n",
       "<style scoped>\n",
       "    .dataframe tbody tr th:only-of-type {\n",
       "        vertical-align: middle;\n",
       "    }\n",
       "\n",
       "    .dataframe tbody tr th {\n",
       "        vertical-align: top;\n",
       "    }\n",
       "\n",
       "    .dataframe thead th {\n",
       "        text-align: right;\n",
       "    }\n",
       "</style>\n",
       "<table border=\"1\" class=\"dataframe\">\n",
       "  <thead>\n",
       "    <tr style=\"text-align: right;\">\n",
       "      <th></th>\n",
       "      <th>Unnamed: 0</th>\n",
       "      <th>COMMUNITY</th>\n",
       "      <th>RANK</th>\n",
       "      <th>COM.RANK</th>\n",
       "      <th>AGGR MARK</th>\n",
       "      <th>COLLEGE CODE</th>\n",
       "      <th>BRANCH CODE</th>\n",
       "    </tr>\n",
       "  </thead>\n",
       "  <tbody>\n",
       "    <tr>\n",
       "      <th>0</th>\n",
       "      <td>1</td>\n",
       "      <td>BC</td>\n",
       "      <td>5</td>\n",
       "      <td>3.000000</td>\n",
       "      <td>200.000</td>\n",
       "      <td>1</td>\n",
       "      <td>CS</td>\n",
       "    </tr>\n",
       "    <tr>\n",
       "      <th>1</th>\n",
       "      <td>2</td>\n",
       "      <td>SC</td>\n",
       "      <td>7</td>\n",
       "      <td>1.000000</td>\n",
       "      <td>200.000</td>\n",
       "      <td>1</td>\n",
       "      <td>CS</td>\n",
       "    </tr>\n",
       "    <tr>\n",
       "      <th>2</th>\n",
       "      <td>3</td>\n",
       "      <td>BC</td>\n",
       "      <td>8</td>\n",
       "      <td>4.000000</td>\n",
       "      <td>200.000</td>\n",
       "      <td>1</td>\n",
       "      <td>CS</td>\n",
       "    </tr>\n",
       "    <tr>\n",
       "      <th>3</th>\n",
       "      <td>4</td>\n",
       "      <td>BC</td>\n",
       "      <td>10</td>\n",
       "      <td>6.000000</td>\n",
       "      <td>200.000</td>\n",
       "      <td>1</td>\n",
       "      <td>EC</td>\n",
       "    </tr>\n",
       "    <tr>\n",
       "      <th>4</th>\n",
       "      <td>6</td>\n",
       "      <td>OC</td>\n",
       "      <td>12</td>\n",
       "      <td>8.000000</td>\n",
       "      <td>199.750</td>\n",
       "      <td>1</td>\n",
       "      <td>EE</td>\n",
       "    </tr>\n",
       "    <tr>\n",
       "      <th>...</th>\n",
       "      <td>...</td>\n",
       "      <td>...</td>\n",
       "      <td>...</td>\n",
       "      <td>...</td>\n",
       "      <td>...</td>\n",
       "      <td>...</td>\n",
       "      <td>...</td>\n",
       "    </tr>\n",
       "    <tr>\n",
       "      <th>72704</th>\n",
       "      <td>9213</td>\n",
       "      <td>MBC</td>\n",
       "      <td>14514</td>\n",
       "      <td>5905.195401</td>\n",
       "      <td>184.580</td>\n",
       "      <td>0</td>\n",
       "      <td>CE</td>\n",
       "    </tr>\n",
       "    <tr>\n",
       "      <th>72705</th>\n",
       "      <td>9214</td>\n",
       "      <td>OC</td>\n",
       "      <td>14517</td>\n",
       "      <td>5905.195401</td>\n",
       "      <td>184.570</td>\n",
       "      <td>0</td>\n",
       "      <td>CS</td>\n",
       "    </tr>\n",
       "    <tr>\n",
       "      <th>72706</th>\n",
       "      <td>9215</td>\n",
       "      <td>BC</td>\n",
       "      <td>14519</td>\n",
       "      <td>5905.195401</td>\n",
       "      <td>184.550</td>\n",
       "      <td>0</td>\n",
       "      <td>PR</td>\n",
       "    </tr>\n",
       "    <tr>\n",
       "      <th>72707</th>\n",
       "      <td>9216</td>\n",
       "      <td>BC</td>\n",
       "      <td>14521</td>\n",
       "      <td>5905.195401</td>\n",
       "      <td>184.535</td>\n",
       "      <td>0</td>\n",
       "      <td>CS</td>\n",
       "    </tr>\n",
       "    <tr>\n",
       "      <th>72708</th>\n",
       "      <td>9217</td>\n",
       "      <td>BC</td>\n",
       "      <td>14524</td>\n",
       "      <td>5905.195401</td>\n",
       "      <td>184.505</td>\n",
       "      <td>0</td>\n",
       "      <td>EE</td>\n",
       "    </tr>\n",
       "  </tbody>\n",
       "</table>\n",
       "<p>72709 rows × 7 columns</p>\n",
       "</div>"
      ],
      "text/plain": [
       "       Unnamed: 0 COMMUNITY   RANK     COM.RANK  AGGR MARK  COLLEGE CODE  \\\n",
       "0               1        BC      5     3.000000    200.000             1   \n",
       "1               2        SC      7     1.000000    200.000             1   \n",
       "2               3        BC      8     4.000000    200.000             1   \n",
       "3               4        BC     10     6.000000    200.000             1   \n",
       "4               6        OC     12     8.000000    199.750             1   \n",
       "...           ...       ...    ...          ...        ...           ...   \n",
       "72704        9213       MBC  14514  5905.195401    184.580             0   \n",
       "72705        9214        OC  14517  5905.195401    184.570             0   \n",
       "72706        9215        BC  14519  5905.195401    184.550             0   \n",
       "72707        9216        BC  14521  5905.195401    184.535             0   \n",
       "72708        9217        BC  14524  5905.195401    184.505             0   \n",
       "\n",
       "      BRANCH CODE  \n",
       "0              CS  \n",
       "1              CS  \n",
       "2              CS  \n",
       "3              EC  \n",
       "4              EE  \n",
       "...           ...  \n",
       "72704          CE  \n",
       "72705          CS  \n",
       "72706          PR  \n",
       "72707          CS  \n",
       "72708          EE  \n",
       "\n",
       "[72709 rows x 7 columns]"
      ]
     },
     "execution_count": 101,
     "metadata": {},
     "output_type": "execute_result"
    }
   ],
   "source": [
    "df"
   ]
  },
  {
   "cell_type": "code",
   "execution_count": 102,
   "metadata": {
    "id": "aJ3IQqNXozxj"
   },
   "outputs": [],
   "source": [
    "df = df.drop(['Unnamed: 0'],axis=1)"
   ]
  },
  {
   "cell_type": "code",
   "execution_count": 103,
   "metadata": {
    "colab": {
     "base_uri": "https://localhost:8080/",
     "height": 424
    },
    "id": "frDRlIuBo1iR",
    "outputId": "0abeed60-4452-4945-ba3c-ce54b89218f5"
   },
   "outputs": [
    {
     "data": {
      "text/html": [
       "<div>\n",
       "<style scoped>\n",
       "    .dataframe tbody tr th:only-of-type {\n",
       "        vertical-align: middle;\n",
       "    }\n",
       "\n",
       "    .dataframe tbody tr th {\n",
       "        vertical-align: top;\n",
       "    }\n",
       "\n",
       "    .dataframe thead th {\n",
       "        text-align: right;\n",
       "    }\n",
       "</style>\n",
       "<table border=\"1\" class=\"dataframe\">\n",
       "  <thead>\n",
       "    <tr style=\"text-align: right;\">\n",
       "      <th></th>\n",
       "      <th>COMMUNITY</th>\n",
       "      <th>RANK</th>\n",
       "      <th>COM.RANK</th>\n",
       "      <th>AGGR MARK</th>\n",
       "      <th>COLLEGE CODE</th>\n",
       "      <th>BRANCH CODE</th>\n",
       "    </tr>\n",
       "  </thead>\n",
       "  <tbody>\n",
       "    <tr>\n",
       "      <th>0</th>\n",
       "      <td>BC</td>\n",
       "      <td>5</td>\n",
       "      <td>3.000000</td>\n",
       "      <td>200.000</td>\n",
       "      <td>1</td>\n",
       "      <td>CS</td>\n",
       "    </tr>\n",
       "    <tr>\n",
       "      <th>1</th>\n",
       "      <td>SC</td>\n",
       "      <td>7</td>\n",
       "      <td>1.000000</td>\n",
       "      <td>200.000</td>\n",
       "      <td>1</td>\n",
       "      <td>CS</td>\n",
       "    </tr>\n",
       "    <tr>\n",
       "      <th>2</th>\n",
       "      <td>BC</td>\n",
       "      <td>8</td>\n",
       "      <td>4.000000</td>\n",
       "      <td>200.000</td>\n",
       "      <td>1</td>\n",
       "      <td>CS</td>\n",
       "    </tr>\n",
       "    <tr>\n",
       "      <th>3</th>\n",
       "      <td>BC</td>\n",
       "      <td>10</td>\n",
       "      <td>6.000000</td>\n",
       "      <td>200.000</td>\n",
       "      <td>1</td>\n",
       "      <td>EC</td>\n",
       "    </tr>\n",
       "    <tr>\n",
       "      <th>4</th>\n",
       "      <td>OC</td>\n",
       "      <td>12</td>\n",
       "      <td>8.000000</td>\n",
       "      <td>199.750</td>\n",
       "      <td>1</td>\n",
       "      <td>EE</td>\n",
       "    </tr>\n",
       "    <tr>\n",
       "      <th>...</th>\n",
       "      <td>...</td>\n",
       "      <td>...</td>\n",
       "      <td>...</td>\n",
       "      <td>...</td>\n",
       "      <td>...</td>\n",
       "      <td>...</td>\n",
       "    </tr>\n",
       "    <tr>\n",
       "      <th>72704</th>\n",
       "      <td>MBC</td>\n",
       "      <td>14514</td>\n",
       "      <td>5905.195401</td>\n",
       "      <td>184.580</td>\n",
       "      <td>0</td>\n",
       "      <td>CE</td>\n",
       "    </tr>\n",
       "    <tr>\n",
       "      <th>72705</th>\n",
       "      <td>OC</td>\n",
       "      <td>14517</td>\n",
       "      <td>5905.195401</td>\n",
       "      <td>184.570</td>\n",
       "      <td>0</td>\n",
       "      <td>CS</td>\n",
       "    </tr>\n",
       "    <tr>\n",
       "      <th>72706</th>\n",
       "      <td>BC</td>\n",
       "      <td>14519</td>\n",
       "      <td>5905.195401</td>\n",
       "      <td>184.550</td>\n",
       "      <td>0</td>\n",
       "      <td>PR</td>\n",
       "    </tr>\n",
       "    <tr>\n",
       "      <th>72707</th>\n",
       "      <td>BC</td>\n",
       "      <td>14521</td>\n",
       "      <td>5905.195401</td>\n",
       "      <td>184.535</td>\n",
       "      <td>0</td>\n",
       "      <td>CS</td>\n",
       "    </tr>\n",
       "    <tr>\n",
       "      <th>72708</th>\n",
       "      <td>BC</td>\n",
       "      <td>14524</td>\n",
       "      <td>5905.195401</td>\n",
       "      <td>184.505</td>\n",
       "      <td>0</td>\n",
       "      <td>EE</td>\n",
       "    </tr>\n",
       "  </tbody>\n",
       "</table>\n",
       "<p>72709 rows × 6 columns</p>\n",
       "</div>"
      ],
      "text/plain": [
       "      COMMUNITY   RANK     COM.RANK  AGGR MARK  COLLEGE CODE BRANCH CODE\n",
       "0            BC      5     3.000000    200.000             1          CS\n",
       "1            SC      7     1.000000    200.000             1          CS\n",
       "2            BC      8     4.000000    200.000             1          CS\n",
       "3            BC     10     6.000000    200.000             1          EC\n",
       "4            OC     12     8.000000    199.750             1          EE\n",
       "...         ...    ...          ...        ...           ...         ...\n",
       "72704       MBC  14514  5905.195401    184.580             0          CE\n",
       "72705        OC  14517  5905.195401    184.570             0          CS\n",
       "72706        BC  14519  5905.195401    184.550             0          PR\n",
       "72707        BC  14521  5905.195401    184.535             0          CS\n",
       "72708        BC  14524  5905.195401    184.505             0          EE\n",
       "\n",
       "[72709 rows x 6 columns]"
      ]
     },
     "execution_count": 103,
     "metadata": {},
     "output_type": "execute_result"
    }
   ],
   "source": [
    "df"
   ]
  },
  {
   "cell_type": "code",
   "execution_count": 104,
   "metadata": {
    "id": "ZjAMh81oo3Rz"
   },
   "outputs": [],
   "source": [
    "df = df.drop(['BRANCH CODE'],axis=1)"
   ]
  },
  {
   "cell_type": "code",
   "execution_count": 105,
   "metadata": {
    "id": "SHcdmDC9o5rZ"
   },
   "outputs": [],
   "source": [
    "dfc1 = df.loc[df['COLLEGE CODE'] == 1]"
   ]
  },
  {
   "cell_type": "code",
   "execution_count": 106,
   "metadata": {
    "colab": {
     "base_uri": "https://localhost:8080/",
     "height": 424
    },
    "id": "sVZ-wDpSo-oc",
    "outputId": "2d203ca1-133c-40fc-ad4b-37aed13dedd9"
   },
   "outputs": [
    {
     "data": {
      "text/html": [
       "<div>\n",
       "<style scoped>\n",
       "    .dataframe tbody tr th:only-of-type {\n",
       "        vertical-align: middle;\n",
       "    }\n",
       "\n",
       "    .dataframe tbody tr th {\n",
       "        vertical-align: top;\n",
       "    }\n",
       "\n",
       "    .dataframe thead th {\n",
       "        text-align: right;\n",
       "    }\n",
       "</style>\n",
       "<table border=\"1\" class=\"dataframe\">\n",
       "  <thead>\n",
       "    <tr style=\"text-align: right;\">\n",
       "      <th></th>\n",
       "      <th>COMMUNITY</th>\n",
       "      <th>RANK</th>\n",
       "      <th>COM.RANK</th>\n",
       "      <th>AGGR MARK</th>\n",
       "      <th>COLLEGE CODE</th>\n",
       "    </tr>\n",
       "  </thead>\n",
       "  <tbody>\n",
       "    <tr>\n",
       "      <th>0</th>\n",
       "      <td>BC</td>\n",
       "      <td>5</td>\n",
       "      <td>3.000000</td>\n",
       "      <td>200.00</td>\n",
       "      <td>1</td>\n",
       "    </tr>\n",
       "    <tr>\n",
       "      <th>1</th>\n",
       "      <td>SC</td>\n",
       "      <td>7</td>\n",
       "      <td>1.000000</td>\n",
       "      <td>200.00</td>\n",
       "      <td>1</td>\n",
       "    </tr>\n",
       "    <tr>\n",
       "      <th>2</th>\n",
       "      <td>BC</td>\n",
       "      <td>8</td>\n",
       "      <td>4.000000</td>\n",
       "      <td>200.00</td>\n",
       "      <td>1</td>\n",
       "    </tr>\n",
       "    <tr>\n",
       "      <th>3</th>\n",
       "      <td>BC</td>\n",
       "      <td>10</td>\n",
       "      <td>6.000000</td>\n",
       "      <td>200.00</td>\n",
       "      <td>1</td>\n",
       "    </tr>\n",
       "    <tr>\n",
       "      <th>4</th>\n",
       "      <td>OC</td>\n",
       "      <td>12</td>\n",
       "      <td>8.000000</td>\n",
       "      <td>199.75</td>\n",
       "      <td>1</td>\n",
       "    </tr>\n",
       "    <tr>\n",
       "      <th>...</th>\n",
       "      <td>...</td>\n",
       "      <td>...</td>\n",
       "      <td>...</td>\n",
       "      <td>...</td>\n",
       "      <td>...</td>\n",
       "    </tr>\n",
       "    <tr>\n",
       "      <th>64250</th>\n",
       "      <td>MBC</td>\n",
       "      <td>14172</td>\n",
       "      <td>5905.195401</td>\n",
       "      <td>185.00</td>\n",
       "      <td>1</td>\n",
       "    </tr>\n",
       "    <tr>\n",
       "      <th>64251</th>\n",
       "      <td>SC</td>\n",
       "      <td>14245</td>\n",
       "      <td>5905.195401</td>\n",
       "      <td>185.00</td>\n",
       "      <td>1</td>\n",
       "    </tr>\n",
       "    <tr>\n",
       "      <th>64252</th>\n",
       "      <td>BCM</td>\n",
       "      <td>14321</td>\n",
       "      <td>5905.195401</td>\n",
       "      <td>185.00</td>\n",
       "      <td>1</td>\n",
       "    </tr>\n",
       "    <tr>\n",
       "      <th>64253</th>\n",
       "      <td>SCA</td>\n",
       "      <td>14390</td>\n",
       "      <td>5905.195401</td>\n",
       "      <td>185.00</td>\n",
       "      <td>1</td>\n",
       "    </tr>\n",
       "    <tr>\n",
       "      <th>64254</th>\n",
       "      <td>SC</td>\n",
       "      <td>14435</td>\n",
       "      <td>5905.195401</td>\n",
       "      <td>185.00</td>\n",
       "      <td>1</td>\n",
       "    </tr>\n",
       "  </tbody>\n",
       "</table>\n",
       "<p>4806 rows × 5 columns</p>\n",
       "</div>"
      ],
      "text/plain": [
       "      COMMUNITY   RANK     COM.RANK  AGGR MARK  COLLEGE CODE\n",
       "0            BC      5     3.000000     200.00             1\n",
       "1            SC      7     1.000000     200.00             1\n",
       "2            BC      8     4.000000     200.00             1\n",
       "3            BC     10     6.000000     200.00             1\n",
       "4            OC     12     8.000000     199.75             1\n",
       "...         ...    ...          ...        ...           ...\n",
       "64250       MBC  14172  5905.195401     185.00             1\n",
       "64251        SC  14245  5905.195401     185.00             1\n",
       "64252       BCM  14321  5905.195401     185.00             1\n",
       "64253       SCA  14390  5905.195401     185.00             1\n",
       "64254        SC  14435  5905.195401     185.00             1\n",
       "\n",
       "[4806 rows x 5 columns]"
      ]
     },
     "execution_count": 106,
     "metadata": {},
     "output_type": "execute_result"
    }
   ],
   "source": [
    "dfc1"
   ]
  },
  {
   "cell_type": "code",
   "execution_count": 107,
   "metadata": {
    "id": "taNsjZFWpAST"
   },
   "outputs": [],
   "source": [
    "dfc2 = df.loc[df['COLLEGE CODE'] == 0]"
   ]
  },
  {
   "cell_type": "code",
   "execution_count": 108,
   "metadata": {
    "colab": {
     "base_uri": "https://localhost:8080/",
     "height": 424
    },
    "id": "jH7gdiPFpCkX",
    "outputId": "ad90eb2b-7ce5-41fe-812f-54058944b51c"
   },
   "outputs": [
    {
     "data": {
      "text/html": [
       "<div>\n",
       "<style scoped>\n",
       "    .dataframe tbody tr th:only-of-type {\n",
       "        vertical-align: middle;\n",
       "    }\n",
       "\n",
       "    .dataframe tbody tr th {\n",
       "        vertical-align: top;\n",
       "    }\n",
       "\n",
       "    .dataframe thead th {\n",
       "        text-align: right;\n",
       "    }\n",
       "</style>\n",
       "<table border=\"1\" class=\"dataframe\">\n",
       "  <thead>\n",
       "    <tr style=\"text-align: right;\">\n",
       "      <th></th>\n",
       "      <th>COMMUNITY</th>\n",
       "      <th>RANK</th>\n",
       "      <th>COM.RANK</th>\n",
       "      <th>AGGR MARK</th>\n",
       "      <th>COLLEGE CODE</th>\n",
       "    </tr>\n",
       "  </thead>\n",
       "  <tbody>\n",
       "    <tr>\n",
       "      <th>1014</th>\n",
       "      <td>BC</td>\n",
       "      <td>11</td>\n",
       "      <td>7.000000</td>\n",
       "      <td>199.750</td>\n",
       "      <td>0</td>\n",
       "    </tr>\n",
       "    <tr>\n",
       "      <th>1015</th>\n",
       "      <td>BC</td>\n",
       "      <td>17</td>\n",
       "      <td>11.000000</td>\n",
       "      <td>199.750</td>\n",
       "      <td>0</td>\n",
       "    </tr>\n",
       "    <tr>\n",
       "      <th>1016</th>\n",
       "      <td>BC</td>\n",
       "      <td>30</td>\n",
       "      <td>18.000000</td>\n",
       "      <td>199.750</td>\n",
       "      <td>0</td>\n",
       "    </tr>\n",
       "    <tr>\n",
       "      <th>1017</th>\n",
       "      <td>BC</td>\n",
       "      <td>33</td>\n",
       "      <td>20.000000</td>\n",
       "      <td>199.750</td>\n",
       "      <td>0</td>\n",
       "    </tr>\n",
       "    <tr>\n",
       "      <th>1018</th>\n",
       "      <td>BCM</td>\n",
       "      <td>44</td>\n",
       "      <td>2.000000</td>\n",
       "      <td>199.500</td>\n",
       "      <td>0</td>\n",
       "    </tr>\n",
       "    <tr>\n",
       "      <th>...</th>\n",
       "      <td>...</td>\n",
       "      <td>...</td>\n",
       "      <td>...</td>\n",
       "      <td>...</td>\n",
       "      <td>...</td>\n",
       "    </tr>\n",
       "    <tr>\n",
       "      <th>72704</th>\n",
       "      <td>MBC</td>\n",
       "      <td>14514</td>\n",
       "      <td>5905.195401</td>\n",
       "      <td>184.580</td>\n",
       "      <td>0</td>\n",
       "    </tr>\n",
       "    <tr>\n",
       "      <th>72705</th>\n",
       "      <td>OC</td>\n",
       "      <td>14517</td>\n",
       "      <td>5905.195401</td>\n",
       "      <td>184.570</td>\n",
       "      <td>0</td>\n",
       "    </tr>\n",
       "    <tr>\n",
       "      <th>72706</th>\n",
       "      <td>BC</td>\n",
       "      <td>14519</td>\n",
       "      <td>5905.195401</td>\n",
       "      <td>184.550</td>\n",
       "      <td>0</td>\n",
       "    </tr>\n",
       "    <tr>\n",
       "      <th>72707</th>\n",
       "      <td>BC</td>\n",
       "      <td>14521</td>\n",
       "      <td>5905.195401</td>\n",
       "      <td>184.535</td>\n",
       "      <td>0</td>\n",
       "    </tr>\n",
       "    <tr>\n",
       "      <th>72708</th>\n",
       "      <td>BC</td>\n",
       "      <td>14524</td>\n",
       "      <td>5905.195401</td>\n",
       "      <td>184.505</td>\n",
       "      <td>0</td>\n",
       "    </tr>\n",
       "  </tbody>\n",
       "</table>\n",
       "<p>67903 rows × 5 columns</p>\n",
       "</div>"
      ],
      "text/plain": [
       "      COMMUNITY   RANK     COM.RANK  AGGR MARK  COLLEGE CODE\n",
       "1014         BC     11     7.000000    199.750             0\n",
       "1015         BC     17    11.000000    199.750             0\n",
       "1016         BC     30    18.000000    199.750             0\n",
       "1017         BC     33    20.000000    199.750             0\n",
       "1018        BCM     44     2.000000    199.500             0\n",
       "...         ...    ...          ...        ...           ...\n",
       "72704       MBC  14514  5905.195401    184.580             0\n",
       "72705        OC  14517  5905.195401    184.570             0\n",
       "72706        BC  14519  5905.195401    184.550             0\n",
       "72707        BC  14521  5905.195401    184.535             0\n",
       "72708        BC  14524  5905.195401    184.505             0\n",
       "\n",
       "[67903 rows x 5 columns]"
      ]
     },
     "execution_count": 108,
     "metadata": {},
     "output_type": "execute_result"
    }
   ],
   "source": [
    "dfc2"
   ]
  },
  {
   "cell_type": "code",
   "execution_count": 109,
   "metadata": {
    "id": "PRpXqR39pD97"
   },
   "outputs": [],
   "source": [
    "dfc2 = dfc2.sample(frac = 1)"
   ]
  },
  {
   "cell_type": "code",
   "execution_count": 110,
   "metadata": {
    "id": "xDiYGGdupOMu"
   },
   "outputs": [],
   "source": [
    "dfc2 = dfc2.head(4500)"
   ]
  },
  {
   "cell_type": "code",
   "execution_count": 111,
   "metadata": {
    "id": "TJAExANvpTxO"
   },
   "outputs": [],
   "source": [
    "df = pd.concat([dfc1,dfc2], axis=0)"
   ]
  },
  {
   "cell_type": "code",
   "execution_count": 112,
   "metadata": {
    "colab": {
     "base_uri": "https://localhost:8080/",
     "height": 424
    },
    "id": "lhTD8e0BpVaB",
    "outputId": "6a1366be-05c2-44ef-87cb-2fc1017bf936"
   },
   "outputs": [
    {
     "data": {
      "text/html": [
       "<div>\n",
       "<style scoped>\n",
       "    .dataframe tbody tr th:only-of-type {\n",
       "        vertical-align: middle;\n",
       "    }\n",
       "\n",
       "    .dataframe tbody tr th {\n",
       "        vertical-align: top;\n",
       "    }\n",
       "\n",
       "    .dataframe thead th {\n",
       "        text-align: right;\n",
       "    }\n",
       "</style>\n",
       "<table border=\"1\" class=\"dataframe\">\n",
       "  <thead>\n",
       "    <tr style=\"text-align: right;\">\n",
       "      <th></th>\n",
       "      <th>COMMUNITY</th>\n",
       "      <th>RANK</th>\n",
       "      <th>COM.RANK</th>\n",
       "      <th>AGGR MARK</th>\n",
       "      <th>COLLEGE CODE</th>\n",
       "    </tr>\n",
       "  </thead>\n",
       "  <tbody>\n",
       "    <tr>\n",
       "      <th>0</th>\n",
       "      <td>BC</td>\n",
       "      <td>5</td>\n",
       "      <td>3.000000</td>\n",
       "      <td>200.000</td>\n",
       "      <td>1</td>\n",
       "    </tr>\n",
       "    <tr>\n",
       "      <th>1</th>\n",
       "      <td>SC</td>\n",
       "      <td>7</td>\n",
       "      <td>1.000000</td>\n",
       "      <td>200.000</td>\n",
       "      <td>1</td>\n",
       "    </tr>\n",
       "    <tr>\n",
       "      <th>2</th>\n",
       "      <td>BC</td>\n",
       "      <td>8</td>\n",
       "      <td>4.000000</td>\n",
       "      <td>200.000</td>\n",
       "      <td>1</td>\n",
       "    </tr>\n",
       "    <tr>\n",
       "      <th>3</th>\n",
       "      <td>BC</td>\n",
       "      <td>10</td>\n",
       "      <td>6.000000</td>\n",
       "      <td>200.000</td>\n",
       "      <td>1</td>\n",
       "    </tr>\n",
       "    <tr>\n",
       "      <th>4</th>\n",
       "      <td>OC</td>\n",
       "      <td>12</td>\n",
       "      <td>8.000000</td>\n",
       "      <td>199.750</td>\n",
       "      <td>1</td>\n",
       "    </tr>\n",
       "    <tr>\n",
       "      <th>...</th>\n",
       "      <td>...</td>\n",
       "      <td>...</td>\n",
       "      <td>...</td>\n",
       "      <td>...</td>\n",
       "      <td>...</td>\n",
       "    </tr>\n",
       "    <tr>\n",
       "      <th>10939</th>\n",
       "      <td>BC</td>\n",
       "      <td>16337</td>\n",
       "      <td>9795.000000</td>\n",
       "      <td>185.500</td>\n",
       "      <td>0</td>\n",
       "    </tr>\n",
       "    <tr>\n",
       "      <th>56313</th>\n",
       "      <td>MBCDNC</td>\n",
       "      <td>22908</td>\n",
       "      <td>5905.195401</td>\n",
       "      <td>182.295</td>\n",
       "      <td>0</td>\n",
       "    </tr>\n",
       "    <tr>\n",
       "      <th>24085</th>\n",
       "      <td>BC</td>\n",
       "      <td>7204</td>\n",
       "      <td>4262.000000</td>\n",
       "      <td>182.000</td>\n",
       "      <td>0</td>\n",
       "    </tr>\n",
       "    <tr>\n",
       "      <th>32994</th>\n",
       "      <td>MBC</td>\n",
       "      <td>11307</td>\n",
       "      <td>5905.195401</td>\n",
       "      <td>176.000</td>\n",
       "      <td>0</td>\n",
       "    </tr>\n",
       "    <tr>\n",
       "      <th>9296</th>\n",
       "      <td>BC</td>\n",
       "      <td>13858</td>\n",
       "      <td>8355.000000</td>\n",
       "      <td>187.500</td>\n",
       "      <td>0</td>\n",
       "    </tr>\n",
       "  </tbody>\n",
       "</table>\n",
       "<p>9306 rows × 5 columns</p>\n",
       "</div>"
      ],
      "text/plain": [
       "      COMMUNITY   RANK     COM.RANK  AGGR MARK  COLLEGE CODE\n",
       "0            BC      5     3.000000    200.000             1\n",
       "1            SC      7     1.000000    200.000             1\n",
       "2            BC      8     4.000000    200.000             1\n",
       "3            BC     10     6.000000    200.000             1\n",
       "4            OC     12     8.000000    199.750             1\n",
       "...         ...    ...          ...        ...           ...\n",
       "10939        BC  16337  9795.000000    185.500             0\n",
       "56313    MBCDNC  22908  5905.195401    182.295             0\n",
       "24085        BC   7204  4262.000000    182.000             0\n",
       "32994       MBC  11307  5905.195401    176.000             0\n",
       "9296         BC  13858  8355.000000    187.500             0\n",
       "\n",
       "[9306 rows x 5 columns]"
      ]
     },
     "execution_count": 112,
     "metadata": {},
     "output_type": "execute_result"
    }
   ],
   "source": [
    "df"
   ]
  },
  {
   "cell_type": "code",
   "execution_count": 113,
   "metadata": {
    "id": "6A1v3NaMpWwN"
   },
   "outputs": [],
   "source": [
    "df = df.sample(frac = 1)"
   ]
  },
  {
   "cell_type": "code",
   "execution_count": 114,
   "metadata": {
    "colab": {
     "base_uri": "https://localhost:8080/"
    },
    "id": "Vrh-1Xp3pYv3",
    "outputId": "a6d92e58-f23e-4369-8207-a7c7fe6ef547"
   },
   "outputs": [
    {
     "data": {
      "text/plain": [
       "COMMUNITY       False\n",
       "RANK            False\n",
       "COM.RANK        False\n",
       "AGGR MARK       False\n",
       "COLLEGE CODE    False\n",
       "dtype: bool"
      ]
     },
     "execution_count": 114,
     "metadata": {},
     "output_type": "execute_result"
    }
   ],
   "source": [
    "df.isna().any()"
   ]
  },
  {
   "cell_type": "code",
   "execution_count": 115,
   "metadata": {
    "colab": {
     "base_uri": "https://localhost:8080/"
    },
    "id": "B2QZs5Fnpa6j",
    "outputId": "b0a71a5c-5806-41c7-fe1d-13274faff62a"
   },
   "outputs": [
    {
     "data": {
      "text/plain": [
       "array(['BC', 'SC', 'MBC', 'MBCDNC', 'MBCV', 'OC', 'BCM', 'SCA', 'MBC/DNC',\n",
       "       'ST'], dtype=object)"
      ]
     },
     "execution_count": 115,
     "metadata": {},
     "output_type": "execute_result"
    }
   ],
   "source": [
    "df.COMMUNITY.unique()"
   ]
  },
  {
   "cell_type": "code",
   "execution_count": 116,
   "metadata": {
    "id": "nFj20Jz-pi_2"
   },
   "outputs": [],
   "source": [
    "community = {'BC':1,'SC':2,'OC':3,'BCM':4,'MBC':5,'SCA':6,'ST':7,'MBC/DNC':5,'MBCV':5,'MBCDNC':5}"
   ]
  },
  {
   "cell_type": "code",
   "execution_count": 117,
   "metadata": {
    "id": "r0Yk-KYBpkvk"
   },
   "outputs": [],
   "source": [
    "df.COMMUNITY = [community[item] for item in df.COMMUNITY]"
   ]
  },
  {
   "cell_type": "code",
   "execution_count": 118,
   "metadata": {
    "colab": {
     "base_uri": "https://localhost:8080/",
     "height": 424
    },
    "id": "2HDB6yMBpmZp",
    "outputId": "1baaf441-eecd-44bf-9ca2-aca553da0abc"
   },
   "outputs": [
    {
     "data": {
      "text/html": [
       "<div>\n",
       "<style scoped>\n",
       "    .dataframe tbody tr th:only-of-type {\n",
       "        vertical-align: middle;\n",
       "    }\n",
       "\n",
       "    .dataframe tbody tr th {\n",
       "        vertical-align: top;\n",
       "    }\n",
       "\n",
       "    .dataframe thead th {\n",
       "        text-align: right;\n",
       "    }\n",
       "</style>\n",
       "<table border=\"1\" class=\"dataframe\">\n",
       "  <thead>\n",
       "    <tr style=\"text-align: right;\">\n",
       "      <th></th>\n",
       "      <th>COMMUNITY</th>\n",
       "      <th>RANK</th>\n",
       "      <th>COM.RANK</th>\n",
       "      <th>AGGR MARK</th>\n",
       "      <th>COLLEGE CODE</th>\n",
       "    </tr>\n",
       "  </thead>\n",
       "  <tbody>\n",
       "    <tr>\n",
       "      <th>8846</th>\n",
       "      <td>1</td>\n",
       "      <td>13137</td>\n",
       "      <td>7920.000000</td>\n",
       "      <td>188.00</td>\n",
       "      <td>0</td>\n",
       "    </tr>\n",
       "    <tr>\n",
       "      <th>43149</th>\n",
       "      <td>2</td>\n",
       "      <td>3515</td>\n",
       "      <td>5905.195401</td>\n",
       "      <td>192.50</td>\n",
       "      <td>0</td>\n",
       "    </tr>\n",
       "    <tr>\n",
       "      <th>26779</th>\n",
       "      <td>2</td>\n",
       "      <td>4681</td>\n",
       "      <td>5905.195401</td>\n",
       "      <td>188.00</td>\n",
       "      <td>1</td>\n",
       "    </tr>\n",
       "    <tr>\n",
       "      <th>342</th>\n",
       "      <td>1</td>\n",
       "      <td>953</td>\n",
       "      <td>639.000000</td>\n",
       "      <td>197.75</td>\n",
       "      <td>1</td>\n",
       "    </tr>\n",
       "    <tr>\n",
       "      <th>682</th>\n",
       "      <td>5</td>\n",
       "      <td>3649</td>\n",
       "      <td>717.000000</td>\n",
       "      <td>195.00</td>\n",
       "      <td>1</td>\n",
       "    </tr>\n",
       "    <tr>\n",
       "      <th>...</th>\n",
       "      <td>...</td>\n",
       "      <td>...</td>\n",
       "      <td>...</td>\n",
       "      <td>...</td>\n",
       "      <td>...</td>\n",
       "    </tr>\n",
       "    <tr>\n",
       "      <th>19838</th>\n",
       "      <td>1</td>\n",
       "      <td>5329</td>\n",
       "      <td>3125.000000</td>\n",
       "      <td>185.00</td>\n",
       "      <td>1</td>\n",
       "    </tr>\n",
       "    <tr>\n",
       "      <th>6940</th>\n",
       "      <td>5</td>\n",
       "      <td>12217</td>\n",
       "      <td>2527.000000</td>\n",
       "      <td>188.75</td>\n",
       "      <td>1</td>\n",
       "    </tr>\n",
       "    <tr>\n",
       "      <th>3527</th>\n",
       "      <td>1</td>\n",
       "      <td>4870</td>\n",
       "      <td>3026.000000</td>\n",
       "      <td>194.00</td>\n",
       "      <td>0</td>\n",
       "    </tr>\n",
       "    <tr>\n",
       "      <th>20902</th>\n",
       "      <td>1</td>\n",
       "      <td>2088</td>\n",
       "      <td>1261.000000</td>\n",
       "      <td>190.00</td>\n",
       "      <td>0</td>\n",
       "    </tr>\n",
       "    <tr>\n",
       "      <th>40323</th>\n",
       "      <td>3</td>\n",
       "      <td>78</td>\n",
       "      <td>5905.195401</td>\n",
       "      <td>198.50</td>\n",
       "      <td>1</td>\n",
       "    </tr>\n",
       "  </tbody>\n",
       "</table>\n",
       "<p>9306 rows × 5 columns</p>\n",
       "</div>"
      ],
      "text/plain": [
       "       COMMUNITY   RANK     COM.RANK  AGGR MARK  COLLEGE CODE\n",
       "8846           1  13137  7920.000000     188.00             0\n",
       "43149          2   3515  5905.195401     192.50             0\n",
       "26779          2   4681  5905.195401     188.00             1\n",
       "342            1    953   639.000000     197.75             1\n",
       "682            5   3649   717.000000     195.00             1\n",
       "...          ...    ...          ...        ...           ...\n",
       "19838          1   5329  3125.000000     185.00             1\n",
       "6940           5  12217  2527.000000     188.75             1\n",
       "3527           1   4870  3026.000000     194.00             0\n",
       "20902          1   2088  1261.000000     190.00             0\n",
       "40323          3     78  5905.195401     198.50             1\n",
       "\n",
       "[9306 rows x 5 columns]"
      ]
     },
     "execution_count": 118,
     "metadata": {},
     "output_type": "execute_result"
    }
   ],
   "source": [
    "df"
   ]
  },
  {
   "cell_type": "code",
   "execution_count": 119,
   "metadata": {
    "colab": {
     "base_uri": "https://localhost:8080/",
     "height": 300
    },
    "id": "CBLtJu84pnyB",
    "outputId": "7aff3757-e59f-49a5-c772-bc220614e099"
   },
   "outputs": [
    {
     "data": {
      "text/html": [
       "<div>\n",
       "<style scoped>\n",
       "    .dataframe tbody tr th:only-of-type {\n",
       "        vertical-align: middle;\n",
       "    }\n",
       "\n",
       "    .dataframe tbody tr th {\n",
       "        vertical-align: top;\n",
       "    }\n",
       "\n",
       "    .dataframe thead th {\n",
       "        text-align: right;\n",
       "    }\n",
       "</style>\n",
       "<table border=\"1\" class=\"dataframe\">\n",
       "  <thead>\n",
       "    <tr style=\"text-align: right;\">\n",
       "      <th></th>\n",
       "      <th>COMMUNITY</th>\n",
       "      <th>RANK</th>\n",
       "      <th>COM.RANK</th>\n",
       "      <th>AGGR MARK</th>\n",
       "      <th>COLLEGE CODE</th>\n",
       "    </tr>\n",
       "  </thead>\n",
       "  <tbody>\n",
       "    <tr>\n",
       "      <th>count</th>\n",
       "      <td>9306.000000</td>\n",
       "      <td>9306.000000</td>\n",
       "      <td>9306.000000</td>\n",
       "      <td>9306.000000</td>\n",
       "      <td>9306.000000</td>\n",
       "    </tr>\n",
       "    <tr>\n",
       "      <th>mean</th>\n",
       "      <td>2.372448</td>\n",
       "      <td>8603.572534</td>\n",
       "      <td>4932.868409</td>\n",
       "      <td>188.390774</td>\n",
       "      <td>0.516441</td>\n",
       "    </tr>\n",
       "    <tr>\n",
       "      <th>std</th>\n",
       "      <td>1.728203</td>\n",
       "      <td>8668.409153</td>\n",
       "      <td>4892.311894</td>\n",
       "      <td>8.207379</td>\n",
       "      <td>0.499756</td>\n",
       "    </tr>\n",
       "    <tr>\n",
       "      <th>min</th>\n",
       "      <td>1.000000</td>\n",
       "      <td>1.000000</td>\n",
       "      <td>1.000000</td>\n",
       "      <td>151.500000</td>\n",
       "      <td>0.000000</td>\n",
       "    </tr>\n",
       "    <tr>\n",
       "      <th>25%</th>\n",
       "      <td>1.000000</td>\n",
       "      <td>1477.000000</td>\n",
       "      <td>2437.000000</td>\n",
       "      <td>183.500000</td>\n",
       "      <td>0.000000</td>\n",
       "    </tr>\n",
       "    <tr>\n",
       "      <th>50%</th>\n",
       "      <td>1.000000</td>\n",
       "      <td>5719.000000</td>\n",
       "      <td>5905.195401</td>\n",
       "      <td>190.000000</td>\n",
       "      <td>1.000000</td>\n",
       "    </tr>\n",
       "    <tr>\n",
       "      <th>75%</th>\n",
       "      <td>4.000000</td>\n",
       "      <td>13319.500000</td>\n",
       "      <td>5905.195401</td>\n",
       "      <td>194.500000</td>\n",
       "      <td>1.000000</td>\n",
       "    </tr>\n",
       "    <tr>\n",
       "      <th>max</th>\n",
       "      <td>7.000000</td>\n",
       "      <td>44781.000000</td>\n",
       "      <td>149035.000000</td>\n",
       "      <td>200.000000</td>\n",
       "      <td>1.000000</td>\n",
       "    </tr>\n",
       "  </tbody>\n",
       "</table>\n",
       "</div>"
      ],
      "text/plain": [
       "         COMMUNITY          RANK       COM.RANK    AGGR MARK  COLLEGE CODE\n",
       "count  9306.000000   9306.000000    9306.000000  9306.000000   9306.000000\n",
       "mean      2.372448   8603.572534    4932.868409   188.390774      0.516441\n",
       "std       1.728203   8668.409153    4892.311894     8.207379      0.499756\n",
       "min       1.000000      1.000000       1.000000   151.500000      0.000000\n",
       "25%       1.000000   1477.000000    2437.000000   183.500000      0.000000\n",
       "50%       1.000000   5719.000000    5905.195401   190.000000      1.000000\n",
       "75%       4.000000  13319.500000    5905.195401   194.500000      1.000000\n",
       "max       7.000000  44781.000000  149035.000000   200.000000      1.000000"
      ]
     },
     "execution_count": 119,
     "metadata": {},
     "output_type": "execute_result"
    }
   ],
   "source": [
    "df.describe()"
   ]
  },
  {
   "cell_type": "code",
   "execution_count": 120,
   "metadata": {
    "id": "zEFuaN_JppSJ"
   },
   "outputs": [],
   "source": [
    "import matplotlib.pyplot as plt\n",
    "import seaborn as sns"
   ]
  },
  {
   "cell_type": "code",
   "execution_count": 121,
   "metadata": {
    "id": "KLwe7FyZpsr3"
   },
   "outputs": [],
   "source": [
    "all_columns = ['COMMUNITY', 'RANK', 'AGGR MARK','COM.RANK','COLLEGE CODE']\n",
    "target = 'COLLEGE CODE'\n",
    "columns = ['COMMUNITY', 'RANK', 'AGGR MARK','COM.RANK']"
   ]
  },
  {
   "cell_type": "code",
   "execution_count": 122,
   "metadata": {
    "colab": {
     "base_uri": "https://localhost:8080/",
     "height": 277
    },
    "id": "2sWp5coaptGq",
    "outputId": "18006c35-02b9-4329-c427-70d13d186511"
   },
   "outputs": [
    {
     "data": {
      "image/png": "[encoded data removed]",
      "text/plain": [
       "<Figure size 1296x288 with 3 Axes>"
      ]
     },
     "metadata": {
      "needs_background": "light"
     },
     "output_type": "display_data"
    }
   ],
   "source": [
    "fig = plt.figure(figsize=(18, 4))\n",
    "fig.subplots_adjust(hspace=1)\n",
    "\n",
    "for i in range(len(columns)-1):\n",
    "    plt.subplot(2, 3, i+1)\n",
    "    sns.boxplot(df[columns[i]])\n",
    "plt.tight_layout() "
   ]
  },
  {
   "cell_type": "code",
   "execution_count": 123,
   "metadata": {
    "colab": {
     "base_uri": "https://localhost:8080/",
     "height": 351
    },
    "id": "LFknHNXzp11g",
    "outputId": "c984b7e5-74bf-4d8c-b260-ac331a3fe662"
   },
   "outputs": [
    {
     "data": {
      "text/plain": [
       "<AxesSubplot:xlabel='COM.RANK'>"
      ]
     },
     "execution_count": 123,
     "metadata": {},
     "output_type": "execute_result"
    },
    {
     "data": {
      "image/png": "[encoded data removed]",
      "text/plain": [
       "<Figure size 432x288 with 1 Axes>"
      ]
     },
     "metadata": {
      "needs_background": "light"
     },
     "output_type": "display_data"
    }
   ],
   "source": [
    "sns.boxplot(df['COM.RANK'])"
   ]
  },
  {
   "cell_type": "code",
   "execution_count": 124,
   "metadata": {
    "id": "zkTEGIasp3vg"
   },
   "outputs": [],
   "source": [
    "dfs = df.sort_values(['RANK','AGGR MARK'],ascending=[True,False])"
   ]
  },
  {
   "cell_type": "code",
   "execution_count": null,
   "metadata": {
    "id": "wZ2kNesfffTH"
   },
   "outputs": [],
   "source": []
  },
  {
   "cell_type": "code",
   "execution_count": 125,
   "metadata": {
    "colab": {
     "base_uri": "https://localhost:8080/",
     "height": 424
    },
    "id": "MWNXH3u9p5a1",
    "outputId": "3277c810-ea91-4150-edd2-6e267ae73cb2"
   },
   "outputs": [
    {
     "data": {
      "text/html": [
       "<div>\n",
       "<style scoped>\n",
       "    .dataframe tbody tr th:only-of-type {\n",
       "        vertical-align: middle;\n",
       "    }\n",
       "\n",
       "    .dataframe tbody tr th {\n",
       "        vertical-align: top;\n",
       "    }\n",
       "\n",
       "    .dataframe thead th {\n",
       "        text-align: right;\n",
       "    }\n",
       "</style>\n",
       "<table border=\"1\" class=\"dataframe\">\n",
       "  <thead>\n",
       "    <tr style=\"text-align: right;\">\n",
       "      <th></th>\n",
       "      <th>COMMUNITY</th>\n",
       "      <th>RANK</th>\n",
       "      <th>COM.RANK</th>\n",
       "      <th>AGGR MARK</th>\n",
       "      <th>COLLEGE CODE</th>\n",
       "    </tr>\n",
       "  </thead>\n",
       "  <tbody>\n",
       "    <tr>\n",
       "      <th>40279</th>\n",
       "      <td>5</td>\n",
       "      <td>1</td>\n",
       "      <td>5905.195401</td>\n",
       "      <td>200.0000</td>\n",
       "      <td>1</td>\n",
       "    </tr>\n",
       "    <tr>\n",
       "      <th>63491</th>\n",
       "      <td>1</td>\n",
       "      <td>1</td>\n",
       "      <td>5905.195401</td>\n",
       "      <td>200.0000</td>\n",
       "      <td>1</td>\n",
       "    </tr>\n",
       "    <tr>\n",
       "      <th>19109</th>\n",
       "      <td>1</td>\n",
       "      <td>1</td>\n",
       "      <td>1.000000</td>\n",
       "      <td>200.0000</td>\n",
       "      <td>1</td>\n",
       "    </tr>\n",
       "    <tr>\n",
       "      <th>26049</th>\n",
       "      <td>1</td>\n",
       "      <td>1</td>\n",
       "      <td>5905.195401</td>\n",
       "      <td>199.6667</td>\n",
       "      <td>1</td>\n",
       "    </tr>\n",
       "    <tr>\n",
       "      <th>26050</th>\n",
       "      <td>3</td>\n",
       "      <td>2</td>\n",
       "      <td>5905.195401</td>\n",
       "      <td>199.6667</td>\n",
       "      <td>1</td>\n",
       "    </tr>\n",
       "    <tr>\n",
       "      <th>...</th>\n",
       "      <td>...</td>\n",
       "      <td>...</td>\n",
       "      <td>...</td>\n",
       "      <td>...</td>\n",
       "      <td>...</td>\n",
       "    </tr>\n",
       "    <tr>\n",
       "      <th>63408</th>\n",
       "      <td>1</td>\n",
       "      <td>43309</td>\n",
       "      <td>5905.195401</td>\n",
       "      <td>174.6350</td>\n",
       "      <td>0</td>\n",
       "    </tr>\n",
       "    <tr>\n",
       "      <th>63448</th>\n",
       "      <td>1</td>\n",
       "      <td>44743</td>\n",
       "      <td>5905.195401</td>\n",
       "      <td>174.1300</td>\n",
       "      <td>0</td>\n",
       "    </tr>\n",
       "    <tr>\n",
       "      <th>63453</th>\n",
       "      <td>1</td>\n",
       "      <td>44749</td>\n",
       "      <td>5905.195401</td>\n",
       "      <td>174.1300</td>\n",
       "      <td>0</td>\n",
       "    </tr>\n",
       "    <tr>\n",
       "      <th>50492</th>\n",
       "      <td>6</td>\n",
       "      <td>44774</td>\n",
       "      <td>5905.195401</td>\n",
       "      <td>174.1200</td>\n",
       "      <td>1</td>\n",
       "    </tr>\n",
       "    <tr>\n",
       "      <th>63472</th>\n",
       "      <td>5</td>\n",
       "      <td>44781</td>\n",
       "      <td>5905.195401</td>\n",
       "      <td>174.1200</td>\n",
       "      <td>0</td>\n",
       "    </tr>\n",
       "  </tbody>\n",
       "</table>\n",
       "<p>9306 rows × 5 columns</p>\n",
       "</div>"
      ],
      "text/plain": [
       "       COMMUNITY   RANK     COM.RANK  AGGR MARK  COLLEGE CODE\n",
       "40279          5      1  5905.195401   200.0000             1\n",
       "63491          1      1  5905.195401   200.0000             1\n",
       "19109          1      1     1.000000   200.0000             1\n",
       "26049          1      1  5905.195401   199.6667             1\n",
       "26050          3      2  5905.195401   199.6667             1\n",
       "...          ...    ...          ...        ...           ...\n",
       "63408          1  43309  5905.195401   174.6350             0\n",
       "63448          1  44743  5905.195401   174.1300             0\n",
       "63453          1  44749  5905.195401   174.1300             0\n",
       "50492          6  44774  5905.195401   174.1200             1\n",
       "63472          5  44781  5905.195401   174.1200             0\n",
       "\n",
       "[9306 rows x 5 columns]"
      ]
     },
     "execution_count": 125,
     "metadata": {},
     "output_type": "execute_result"
    }
   ],
   "source": [
    "dfs"
   ]
  },
  {
   "cell_type": "code",
   "execution_count": 126,
   "metadata": {
    "id": "PVIGwCHSp7Tj"
   },
   "outputs": [],
   "source": [
    "from sklearn.linear_model import LogisticRegression"
   ]
  },
  {
   "cell_type": "code",
   "execution_count": 127,
   "metadata": {
    "id": "mLM9ruG-p9du"
   },
   "outputs": [],
   "source": [
    "import tensorflow as tf\n",
    "import pandas as pd\n"
   ]
  },
  {
   "cell_type": "code",
   "execution_count": 128,
   "metadata": {
    "id": "cuqsoE31p_Ed"
   },
   "outputs": [],
   "source": [
    "from sklearn.model_selection import train_test_split\n",
    "import numpy as np"
   ]
  },
  {
   "cell_type": "code",
   "execution_count": 129,
   "metadata": {
    "id": "2vBdgH6-qAna"
   },
   "outputs": [],
   "source": [
    "x = dfs.drop(['COLLEGE CODE'],axis=1)\n",
    "label = dfs['COLLEGE CODE']"
   ]
  },
  {
   "cell_type": "code",
   "execution_count": 130,
   "metadata": {
    "colab": {
     "base_uri": "https://localhost:8080/",
     "height": 424
    },
    "id": "MGKmbI1tqB_u",
    "outputId": "735619af-8df0-4307-8e25-6fec5b4cdb9e"
   },
   "outputs": [
    {
     "data": {
      "text/html": [
       "<div>\n",
       "<style scoped>\n",
       "    .dataframe tbody tr th:only-of-type {\n",
       "        vertical-align: middle;\n",
       "    }\n",
       "\n",
       "    .dataframe tbody tr th {\n",
       "        vertical-align: top;\n",
       "    }\n",
       "\n",
       "    .dataframe thead th {\n",
       "        text-align: right;\n",
       "    }\n",
       "</style>\n",
       "<table border=\"1\" class=\"dataframe\">\n",
       "  <thead>\n",
       "    <tr style=\"text-align: right;\">\n",
       "      <th></th>\n",
       "      <th>COMMUNITY</th>\n",
       "      <th>RANK</th>\n",
       "      <th>COM.RANK</th>\n",
       "      <th>AGGR MARK</th>\n",
       "    </tr>\n",
       "  </thead>\n",
       "  <tbody>\n",
       "    <tr>\n",
       "      <th>40279</th>\n",
       "      <td>5</td>\n",
       "      <td>1</td>\n",
       "      <td>5905.195401</td>\n",
       "      <td>200.0000</td>\n",
       "    </tr>\n",
       "    <tr>\n",
       "      <th>63491</th>\n",
       "      <td>1</td>\n",
       "      <td>1</td>\n",
       "      <td>5905.195401</td>\n",
       "      <td>200.0000</td>\n",
       "    </tr>\n",
       "    <tr>\n",
       "      <th>19109</th>\n",
       "      <td>1</td>\n",
       "      <td>1</td>\n",
       "      <td>1.000000</td>\n",
       "      <td>200.0000</td>\n",
       "    </tr>\n",
       "    <tr>\n",
       "      <th>26049</th>\n",
       "      <td>1</td>\n",
       "      <td>1</td>\n",
       "      <td>5905.195401</td>\n",
       "      <td>199.6667</td>\n",
       "    </tr>\n",
       "    <tr>\n",
       "      <th>26050</th>\n",
       "      <td>3</td>\n",
       "      <td>2</td>\n",
       "      <td>5905.195401</td>\n",
       "      <td>199.6667</td>\n",
       "    </tr>\n",
       "    <tr>\n",
       "      <th>...</th>\n",
       "      <td>...</td>\n",
       "      <td>...</td>\n",
       "      <td>...</td>\n",
       "      <td>...</td>\n",
       "    </tr>\n",
       "    <tr>\n",
       "      <th>63408</th>\n",
       "      <td>1</td>\n",
       "      <td>43309</td>\n",
       "      <td>5905.195401</td>\n",
       "      <td>174.6350</td>\n",
       "    </tr>\n",
       "    <tr>\n",
       "      <th>63448</th>\n",
       "      <td>1</td>\n",
       "      <td>44743</td>\n",
       "      <td>5905.195401</td>\n",
       "      <td>174.1300</td>\n",
       "    </tr>\n",
       "    <tr>\n",
       "      <th>63453</th>\n",
       "      <td>1</td>\n",
       "      <td>44749</td>\n",
       "      <td>5905.195401</td>\n",
       "      <td>174.1300</td>\n",
       "    </tr>\n",
       "    <tr>\n",
       "      <th>50492</th>\n",
       "      <td>6</td>\n",
       "      <td>44774</td>\n",
       "      <td>5905.195401</td>\n",
       "      <td>174.1200</td>\n",
       "    </tr>\n",
       "    <tr>\n",
       "      <th>63472</th>\n",
       "      <td>5</td>\n",
       "      <td>44781</td>\n",
       "      <td>5905.195401</td>\n",
       "      <td>174.1200</td>\n",
       "    </tr>\n",
       "  </tbody>\n",
       "</table>\n",
       "<p>9306 rows × 4 columns</p>\n",
       "</div>"
      ],
      "text/plain": [
       "       COMMUNITY   RANK     COM.RANK  AGGR MARK\n",
       "40279          5      1  5905.195401   200.0000\n",
       "63491          1      1  5905.195401   200.0000\n",
       "19109          1      1     1.000000   200.0000\n",
       "26049          1      1  5905.195401   199.6667\n",
       "26050          3      2  5905.195401   199.6667\n",
       "...          ...    ...          ...        ...\n",
       "63408          1  43309  5905.195401   174.6350\n",
       "63448          1  44743  5905.195401   174.1300\n",
       "63453          1  44749  5905.195401   174.1300\n",
       "50492          6  44774  5905.195401   174.1200\n",
       "63472          5  44781  5905.195401   174.1200\n",
       "\n",
       "[9306 rows x 4 columns]"
      ]
     },
     "execution_count": 130,
     "metadata": {},
     "output_type": "execute_result"
    }
   ],
   "source": [
    "x"
   ]
  },
  {
   "cell_type": "code",
   "execution_count": 131,
   "metadata": {
    "colab": {
     "base_uri": "https://localhost:8080/"
    },
    "id": "VjsYnubDqDb_",
    "outputId": "6243dfca-8b5d-4603-efc0-de8051cb45a3"
   },
   "outputs": [
    {
     "data": {
      "text/plain": [
       "40279    1\n",
       "63491    1\n",
       "19109    1\n",
       "26049    1\n",
       "26050    1\n",
       "        ..\n",
       "63408    0\n",
       "63448    0\n",
       "63453    0\n",
       "50492    1\n",
       "63472    0\n",
       "Name: COLLEGE CODE, Length: 9306, dtype: int64"
      ]
     },
     "execution_count": 131,
     "metadata": {},
     "output_type": "execute_result"
    }
   ],
   "source": [
    "label"
   ]
  },
  {
   "cell_type": "code",
   "execution_count": 132,
   "metadata": {
    "colab": {
     "base_uri": "https://localhost:8080/"
    },
    "id": "oLfOACUEqn1x",
    "outputId": "50afb67e-09f1-4fee-b185-d5f9cdb98c02"
   },
   "outputs": [],
   "source": [
    "from sklearn.metrics import accuracy_score\n",
    "from sklearn.tree import DecisionTreeClassifier"
   ]
  },
  {
   "cell_type": "code",
   "execution_count": 133,
   "metadata": {
    "id": "V3z1f6xAqpZa"
   },
   "outputs": [],
   "source": [
    "X_train, X_test, y_train, y_test = train_test_split(x, label, test_size=0.33, random_state=42)"
   ]
  },
  {
   "cell_type": "code",
   "execution_count": 144,
   "metadata": {},
   "outputs": [
    {
     "data": {
      "text/plain": [
       "589      1\n",
       "55341    0\n",
       "14837    0\n",
       "19797    1\n",
       "284      1\n",
       "        ..\n",
       "24958    0\n",
       "45366    0\n",
       "45644    0\n",
       "40468    1\n",
       "9843     0\n",
       "Name: COLLEGE CODE, Length: 6235, dtype: int64"
      ]
     },
     "execution_count": 144,
     "metadata": {},
     "output_type": "execute_result"
    }
   ],
   "source": [
    "y_train"
   ]
  },
  {
   "cell_type": "code",
   "execution_count": 134,
   "metadata": {
    "colab": {
     "base_uri": "https://localhost:8080/"
    },
    "id": "DHW8xUG7qrlQ",
    "outputId": "a923237d-f65f-4deb-b5f5-5a43ca5eab3a"
   },
   "outputs": [
    {
     "name": "stdout",
     "output_type": "stream",
     "text": [
      "Accuracy of Decision Tree Classifier:  0.7368935200260501\n"
     ]
    }
   ],
   "source": [
    "dt = DecisionTreeClassifier(random_state=0)\n",
    "dt.fit(X_train, y_train)\n",
    "dt_pred = dt.predict(X_test)\n",
    "print(\"Accuracy of Decision Tree Classifier: \", accuracy_score(y_test, dt_pred))"
   ]
  },
  {
   "cell_type": "code",
   "execution_count": 135,
   "metadata": {
    "colab": {
     "base_uri": "https://localhost:8080/"
    },
    "id": "YfGXmDhYqtYX",
    "outputId": "bd294cd8-6005-44e9-8fbc-f7d1a4579090"
   },
   "outputs": [
    {
     "name": "stdout",
     "output_type": "stream",
     "text": [
      "[1]\n"
     ]
    }
   ],
   "source": [
    "pr = dt.predict([[5,2700,700,189.5]])\n",
    "print(pr)"
   ]
  },
  {
   "cell_type": "code",
   "execution_count": 137,
   "metadata": {
    "id": "X3bGxZF4qva-"
   },
   "outputs": [
    {
     "name": "stdout",
     "output_type": "stream",
     "text": [
      "Requirement already satisfied: ibm_watson_machine_learning in /opt/conda/envs/Python-3.9/lib/python3.9/site-packages (1.0.257)\n",
      "Requirement already satisfied: pandas<1.5.0,>=0.24.2 in /opt/conda/envs/Python-3.9/lib/python3.9/site-packages (from ibm_watson_machine_learning) (1.3.4)\n",
      "Requirement already satisfied: importlib-metadata in /opt/conda/envs/Python-3.9/lib/python3.9/site-packages (from ibm_watson_machine_learning) (4.8.2)\n",
      "Requirement already satisfied: certifi in /opt/conda/envs/Python-3.9/lib/python3.9/site-packages (from ibm_watson_machine_learning) (2022.9.24)\n",
      "Requirement already satisfied: lomond in /opt/conda/envs/Python-3.9/lib/python3.9/site-packages (from ibm_watson_machine_learning) (0.3.3)\n",
      "Requirement already satisfied: requests in /opt/conda/envs/Python-3.9/lib/python3.9/site-packages (from ibm_watson_machine_learning) (2.26.0)\n",
      "Requirement already satisfied: ibm-cos-sdk==2.11.* in /opt/conda/envs/Python-3.9/lib/python3.9/site-packages (from ibm_watson_machine_learning) (2.11.0)\n",
      "Requirement already satisfied: tabulate in /opt/conda/envs/Python-3.9/lib/python3.9/site-packages (from ibm_watson_machine_learning) (0.8.9)\n",
      "Requirement already satisfied: urllib3 in /opt/conda/envs/Python-3.9/lib/python3.9/site-packages (from ibm_watson_machine_learning) (1.26.7)\n",
      "Requirement already satisfied: packaging in /opt/conda/envs/Python-3.9/lib/python3.9/site-packages (from ibm_watson_machine_learning) (21.3)\n",
      "Requirement already satisfied: jmespath<1.0.0,>=0.7.1 in /opt/conda/envs/Python-3.9/lib/python3.9/site-packages (from ibm-cos-sdk==2.11.*->ibm_watson_machine_learning) (0.10.0)\n",
      "Requirement already satisfied: ibm-cos-sdk-core==2.11.0 in /opt/conda/envs/Python-3.9/lib/python3.9/site-packages (from ibm-cos-sdk==2.11.*->ibm_watson_machine_learning) (2.11.0)\n",
      "Requirement already satisfied: ibm-cos-sdk-s3transfer==2.11.0 in /opt/conda/envs/Python-3.9/lib/python3.9/site-packages (from ibm-cos-sdk==2.11.*->ibm_watson_machine_learning) (2.11.0)\n",
      "Requirement already satisfied: python-dateutil<3.0.0,>=2.1 in /opt/conda/envs/Python-3.9/lib/python3.9/site-packages (from ibm-cos-sdk-core==2.11.0->ibm-cos-sdk==2.11.*->ibm_watson_machine_learning) (2.8.2)\n",
      "Requirement already satisfied: pytz>=2017.3 in /opt/conda/envs/Python-3.9/lib/python3.9/site-packages (from pandas<1.5.0,>=0.24.2->ibm_watson_machine_learning) (2021.3)\n",
      "Requirement already satisfied: numpy>=1.17.3 in /opt/conda/envs/Python-3.9/lib/python3.9/site-packages (from pandas<1.5.0,>=0.24.2->ibm_watson_machine_learning) (1.20.3)\n",
      "Requirement already satisfied: six>=1.5 in /opt/conda/envs/Python-3.9/lib/python3.9/site-packages (from python-dateutil<3.0.0,>=2.1->ibm-cos-sdk-core==2.11.0->ibm-cos-sdk==2.11.*->ibm_watson_machine_learning) (1.15.0)\n",
      "Requirement already satisfied: idna<4,>=2.5 in /opt/conda/envs/Python-3.9/lib/python3.9/site-packages (from requests->ibm_watson_machine_learning) (3.3)\n",
      "Requirement already satisfied: charset-normalizer~=2.0.0 in /opt/conda/envs/Python-3.9/lib/python3.9/site-packages (from requests->ibm_watson_machine_learning) (2.0.4)\n",
      "Requirement already satisfied: zipp>=0.5 in /opt/conda/envs/Python-3.9/lib/python3.9/site-packages (from importlib-metadata->ibm_watson_machine_learning) (3.6.0)\n",
      "Requirement already satisfied: pyparsing!=3.0.5,>=2.0.2 in /opt/conda/envs/Python-3.9/lib/python3.9/site-packages (from packaging->ibm_watson_machine_learning) (3.0.4)\n"
     ]
    }
   ],
   "source": [
    "!pip install ibm_watson_machine_learning"
   ]
  },
  {
   "cell_type": "code",
   "execution_count": 138,
   "metadata": {
    "id": "fA7cQSGgqw3B"
   },
   "outputs": [],
   "source": [
    "from ibm_watson_machine_learning import APIClient\n",
    "wml_credentials = {\n",
    "    \"url\" : \"https://jp-tok.ml.cloud.ibm.com\",\n",
    "    \"apikey\" : \"ol1OfHga50TuuERb3SpiogZUo8O2-iMmAtehGzW6Fes3\"\n",
    "}\n",
    "client = APIClient(wml_credentials)"
   ]
  },
  {
   "cell_type": "code",
   "execution_count": 139,
   "metadata": {
    "colab": {
     "base_uri": "https://localhost:8080/"
    },
    "id": "osdfx3IbqypQ",
    "outputId": "834915df-5592-4859-c4dd-ffe58652e783"
   },
   "outputs": [],
   "source": [
    "def guid_from_space_name(client, space_name):\n",
    "    space = client.spaces.get_details()\n",
    "    return (next(item for item in space['resources'] if item['entity']['name'] == space_name)['metadata']['id'])"
   ]
  },
  {
   "cell_type": "code",
   "execution_count": 140,
   "metadata": {},
   "outputs": [
    {
     "name": "stdout",
     "output_type": "stream",
     "text": [
      "Space UID = 46ea79d1-af79-49e3-8daa-2bad5ab5c86b\n"
     ]
    }
   ],
   "source": [
    "space_uid = guid_from_space_name(client,'models')\n",
    "print(\"Space UID = \" + space_uid)"
   ]
  },
  {
   "cell_type": "code",
   "execution_count": 141,
   "metadata": {},
   "outputs": [
    {
     "data": {
      "text/plain": [
       "'SUCCESS'"
      ]
     },
     "execution_count": 141,
     "metadata": {},
     "output_type": "execute_result"
    }
   ],
   "source": [
    "client.set.default_space(space_uid)"
   ]
  },
  {
   "cell_type": "code",
   "execution_count": 96,
   "metadata": {},
   "outputs": [
    {
     "name": "stdout",
     "output_type": "stream",
     "text": [
      "-----------------------------  ------------------------------------  ----\n",
      "NAME                           ASSET_ID                              TYPE\n",
      "default_py3.6                  0062b8c9-8b7d-44a0-a9b9-46c416adcbd9  base\n",
      "kernel-spark3.2-scala2.12      020d69ce-7ac1-5e68-ac1a-31189867356a  base\n",
      "pytorch-onnx_1.3-py3.7-edt     069ea134-3346-5748-b513-49120e15d288  base\n",
      "scikit-learn_0.20-py3.6        09c5a1d0-9c1e-4473-a344-eb7b665ff687  base\n",
      "spark-mllib_3.0-scala_2.12     09f4cff0-90a7-5899-b9ed-1ef348aebdee  base\n",
      "pytorch-onnx_rt22.1-py3.9      0b848dd4-e681-5599-be41-b5f6fccc6471  base\n",
      "ai-function_0.1-py3.6          0cdb0f1e-5376-4f4d-92dd-da3b69aa9bda  base\n",
      "shiny-r3.6                     0e6e79df-875e-4f24-8ae9-62dcc2148306  base\n",
      "tensorflow_2.4-py3.7-horovod   1092590a-307d-563d-9b62-4eb7d64b3f22  base\n",
      "pytorch_1.1-py3.6              10ac12d6-6b30-4ccd-8392-3e922c096a92  base\n",
      "tensorflow_1.15-py3.6-ddl      111e41b3-de2d-5422-a4d6-bf776828c4b7  base\n",
      "autoai-kb_rt22.2-py3.10        125b6d9a-5b1f-5e8d-972a-b251688ccf40  base\n",
      "runtime-22.1-py3.9             12b83a17-24d8-5082-900f-0ab31fbfd3cb  base\n",
      "scikit-learn_0.22-py3.6        154010fa-5b3b-4ac1-82af-4d5ee5abbc85  base\n",
      "default_r3.6                   1b70aec3-ab34-4b87-8aa0-a4a3c8296a36  base\n",
      "pytorch-onnx_1.3-py3.6         1bc6029a-cc97-56da-b8e0-39c3880dbbe7  base\n",
      "kernel-spark3.3-r3.6           1c9e5454-f216-59dd-a20e-474a5cdf5988  base\n",
      "pytorch-onnx_rt22.1-py3.9-edt  1d362186-7ad5-5b59-8b6c-9d0880bde37f  base\n",
      "tensorflow_2.1-py3.6           1eb25b84-d6ed-5dde-b6a5-3fbdf1665666  base\n",
      "spark-mllib_3.2                20047f72-0a98-58c7-9ff5-a77b012eb8f5  base\n",
      "tensorflow_2.4-py3.8-horovod   217c16f6-178f-56bf-824a-b19f20564c49  base\n",
      "runtime-22.1-py3.9-cuda        26215f05-08c3-5a41-a1b0-da66306ce658  base\n",
      "do_py3.8                       295addb5-9ef9-547e-9bf4-92ae3563e720  base\n",
      "autoai-ts_3.8-py3.8            2aa0c932-798f-5ae9-abd6-15e0c2402fb5  base\n",
      "tensorflow_1.15-py3.6          2b73a275-7cbf-420b-a912-eae7f436e0bc  base\n",
      "kernel-spark3.3-py3.9          2b7961e2-e3b1-5a8c-a491-482c8368839a  base\n",
      "pytorch_1.2-py3.6              2c8ef57d-2687-4b7d-acce-01f94976dac1  base\n",
      "spark-mllib_2.3                2e51f700-bca0-4b0d-88dc-5c6791338875  base\n",
      "pytorch-onnx_1.1-py3.6-edt     32983cea-3f32-4400-8965-dde874a8d67e  base\n",
      "spark-mllib_3.0-py37           36507ebe-8770-55ba-ab2a-eafe787600e9  base\n",
      "spark-mllib_2.4                390d21f8-e58b-4fac-9c55-d7ceda621326  base\n",
      "autoai-ts_rt22.2-py3.10        396b2e83-0953-5b86-9a55-7ce1628a406f  base\n",
      "xgboost_0.82-py3.6             39e31acd-5f30-41dc-ae44-60233c80306e  base\n",
      "pytorch-onnx_1.2-py3.6-edt     40589d0e-7019-4e28-8daa-fb03b6f4fe12  base\n",
      "pytorch-onnx_rt22.2-py3.10     40e73f55-783a-5535-b3fa-0c8b94291431  base\n",
      "default_r36py38                41c247d3-45f8-5a71-b065-8580229facf0  base\n",
      "autoai-ts_rt22.1-py3.9         4269d26e-07ba-5d40-8f66-2d495b0c71f7  base\n",
      "autoai-obm_3.0                 42b92e18-d9ab-567f-988a-4240ba1ed5f7  base\n",
      "pmml-3.0_4.3                   493bcb95-16f1-5bc5-bee8-81b8af80e9c7  base\n",
      "spark-mllib_2.4-r_3.6          49403dff-92e9-4c87-a3d7-a42d0021c095  base\n",
      "xgboost_0.90-py3.6             4ff8d6c2-1343-4c18-85e1-689c965304d3  base\n",
      "pytorch-onnx_1.1-py3.6         50f95b2a-bc16-43bb-bc94-b0bed208c60b  base\n",
      "autoai-ts_3.9-py3.8            52c57136-80fa-572e-8728-a5e7cbb42cde  base\n",
      "spark-mllib_2.4-scala_2.11     55a70f99-7320-4be5-9fb9-9edb5a443af5  base\n",
      "spark-mllib_3.0                5c1b0ca2-4977-5c2e-9439-ffd44ea8ffe9  base\n",
      "autoai-obm_2.0                 5c2e37fa-80b8-5e77-840f-d912469614ee  base\n",
      "spss-modeler_18.1              5c3cad7e-507f-4b2a-a9a3-ab53a21dee8b  base\n",
      "cuda-py3.8                     5d3232bf-c86b-5df4-a2cd-7bb870a1cd4e  base\n",
      "runtime-22.2-py3.10-xc         5e8cddff-db4a-5a6a-b8aa-2d4af9864dab  base\n",
      "autoai-kb_3.1-py3.7            632d4b22-10aa-5180-88f0-f52dfb6444d7  base\n",
      "-----------------------------  ------------------------------------  ----\n",
      "Note: Only first 50 records were displayed. To display more use 'limit' parameter.\n"
     ]
    }
   ],
   "source": [
    "client.software_specifications.list()"
   ]
  },
  {
   "cell_type": "code",
   "execution_count": 142,
   "metadata": {},
   "outputs": [
    {
     "data": {
      "text/plain": [
       "'12b83a17-24d8-5082-900f-0ab31fbfd3cb'"
      ]
     },
     "execution_count": 142,
     "metadata": {},
     "output_type": "execute_result"
    }
   ],
   "source": [
    "software_spec_uid = client.software_specifications.get_uid_by_name(\"runtime-22.1-py3.9\")\n",
    "software_spec_uid"
   ]
  },
  {
   "cell_type": "code",
   "execution_count": 98,
   "metadata": {},
   "outputs": [],
   "source": [
    "model_details = client.repository.store_model(model = dt, meta_props={\n",
    "    client.repository.ModelMetaNames.NAME: \"UAEP_Decision_Tree\",\n",
    "    client.repository.ModelMetaNames.TYPE: \"scikit-learn_1.0\",\n",
    "    client.repository.ModelMetaNames.SOFTWARE_SPEC_UID: software_spec_uid\n",
    "}\n",
    ")\n",
    "\n",
    "model_id = client.repository.get_model_id(model_details)"
   ]
  },
  {
   "cell_type": "code",
   "execution_count": 99,
   "metadata": {},
   "outputs": [
    {
     "data": {
      "text/plain": [
       "'b4c404ae-0a1a-4e7d-a915-e4db8a01a848'"
      ]
     },
     "execution_count": 99,
     "metadata": {},
     "output_type": "execute_result"
    }
   ],
   "source": [
    "model_id"
   ]
  },
  {
   "cell_type": "code",
   "execution_count": 147,
   "metadata": {},
   "outputs": [
    {
     "name": "stdout",
     "output_type": "stream",
     "text": [
      "Scoring response\n",
      "{'predictions': [{'fields': ['prediction', 'probability'], 'values': [[1, [0.0, 1.0]]]}]}\n"
     ]
    }
   ],
   "source": [
    "import requests\n",
    "\n",
    "# NOTE: you must manually set API_KEY below using information retrieved from your IBM Cloud account.\n",
    "API_KEY = \"ol1OfHga50TuuERb3SpiogZUo8O2-iMmAtehGzW6Fes3\"\n",
    "token_response = requests.post('https://iam.cloud.ibm.com/identity/token', data={\"apikey\":\n",
    " API_KEY, \"grant_type\": 'urn:ibm:params:oauth:grant-type:apikey'})\n",
    "mltoken = token_response.json()[\"access_token\"]\n",
    "\n",
    "header = {'Content-Type': 'application/json', 'Authorization': 'Bearer ' + mltoken}\n",
    "\n",
    "# NOTE: manually define and pass the array(s) of values to be scored in the next line\n",
    "payload_scoring = {\"input_data\": [{\"field\": [[\"COMMUNITY\",\"RANK\",\"COM.RANK\",\"AGGR MARK\"]], \"values\": [[5,2700,700,189.5]]}]}\n",
    "\n",
    "response_scoring = requests.post('https://jp-tok.ml.cloud.ibm.com/ml/v4/deployments/afcd0e3a-e61f-4f67-b927-9e01f1ade078/predictions?version=2022-11-22', json=payload_scoring,\n",
    " headers={'Authorization': 'Bearer ' + mltoken})\n",
    "print(\"Scoring response\")\n",
    "print(response_scoring.json())"
   ]
  },
  {
   "cell_type": "code",
   "execution_count": 149,
   "metadata": {},
   "outputs": [
    {
     "data": {
      "text/plain": [
       "1"
      ]
     },
     "execution_count": 149,
     "metadata": {},
     "output_type": "execute_result"
    }
   ],
   "source": [
    "prediction = response_scoring.json()['predictions'][0]['values'][0][0]\n",
    "prediction"
   ]
  },
  {
   "cell_type": "code",
   "execution_count": 136,
   "metadata": {
    "colab": {
     "base_uri": "https://localhost:8080/"
    },
    "id": "E0s7UckMq1ym",
    "outputId": "85c05528-b81e-42d8-86b1-163da57f58a9"
   },
   "outputs": [
    {
     "name": "stdout",
     "output_type": "stream",
     "text": [
      "[0]\n"
     ]
    }
   ],
   "source": [
    "pred = dt.predict([[5,30100,350,180]])\n",
    "print(pred)"
   ]
  },
  {
   "cell_type": "code",
   "execution_count": null,
   "metadata": {
    "id": "pwGQQ-Fhrypj"
   },
   "outputs": [],
   "source": []
  }
 ],
 "metadata": {
  "colab": {
   "provenance": []
  },
  "kernelspec": {
   "display_name": "Python 3.9",
   "language": "python",
   "name": "python3"
  },
  "language_info": {
   "codemirror_mode": {
    "name": "ipython",
    "version": 3
   },
   "file_extension": ".py",
   "mimetype": "text/x-python",
   "name": "python",
   "nbconvert_exporter": "python",
   "pygments_lexer": "ipython3",
   "version": "3.9.13"
  }
 },
 "nbformat": 4,
 "nbformat_minor": 1
}
